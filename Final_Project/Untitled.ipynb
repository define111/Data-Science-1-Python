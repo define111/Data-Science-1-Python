{
 "cells": [
  {
   "cell_type": "code",
   "execution_count": 6,
   "metadata": {},
   "outputs": [
    {
     "name": "stdout",
     "output_type": "stream",
     "text": [
      "1\n",
      "32\n",
      "Case #1: 0 32\n"
     ]
    }
   ],
   "source": [
    "def decompose(n):\n",
    "    a=n\n",
    "    b=0\n",
    "    len_input=len(str(n))\n",
    "    for digitposition in range(len_input,0,-1):\n",
    "        power=10**(digitposition-1)\n",
    "        rest=a//power\n",
    "        if rest==4:\n",
    "            b=b+power\n",
    "        a=a-rest*power\n",
    "    c=n-b\n",
    "    return b, c\n",
    "\n",
    "\n",
    "amount=int(input())\n",
    "for case in range(1,amount+1):\n",
    "    n=int(input())\n",
    "    b, c = decompose(n)\n",
    "    print (f'Case #{case}: {b} {c}')"
   ]
  },
  {
   "cell_type": "code",
   "execution_count": 7,
   "metadata": {},
   "outputs": [
    {
     "name": "stdout",
     "output_type": "stream",
     "text": [
      "0.359375\n"
     ]
    }
   ],
   "source": [
    "import time\n",
    "start = time.process_time()\n",
    "for value in range(1, 100000):\n",
    "    first, second = decompose(value)\n",
    "    if '4' in str(first) or '4' in str(second):\n",
    "        print(f\"Something is wrong: {value} {first} {second}\")\n",
    "    if first + second != value:\n",
    "        print(f\"Something is wrong: {value} {first} {second}\")\n",
    "print(time.process_time() - start)"
   ]
  },
  {
   "cell_type": "code",
   "execution_count": null,
   "metadata": {},
   "outputs": [],
   "source": [
    "\n",
    "T = int(input())\n",
    "\n",
    "for tidx in range(1, T + 1):\n",
    "    n = int(input())\n",
    "\n",
    "    a = n\n",
    "    b = 0\n",
    "\n",
    "    a_str = str(a)\n",
    "    len_str = len(a_str)\n",
    "    for i in range(len(a_str)):\n",
    "        if a_str[i] == '4':\n",
    "            coef = 10 ** (len_str - i - 1)\n",
    "            b += coef\n",
    "            a -= coef\n",
    "\n",
    "    print(\"Case #{}: {} {}\".format(tidx, a, b))"
   ]
  },
  {
   "cell_type": "code",
   "execution_count": 4,
   "metadata": {},
   "outputs": [
    {
     "name": "stdout",
     "output_type": "stream",
     "text": [
      "3\n",
      "4\n",
      "Case #1: 1 3\n",
      "940\n",
      "Case #2: 10 930\n",
      "4444\n",
      "Case #3: 1111 3333\n"
     ]
    }
   ],
   "source": [
    "amount=int(input())\n",
    "for case in range(1,amount+1):\n",
    "    n=int(input())\n",
    "    a=n\n",
    "    b=0\n",
    "    str_input=str(a)\n",
    "    len_input=len(str_input)\n",
    "    for digitposition in range(len(str_input),0,-1):\n",
    "        power=10**(digitposition-1)\n",
    "        rest=a//power\n",
    "        if rest==4:\n",
    "            b=b+power\n",
    "        a=a-rest*power\n",
    "    c=n-b\n",
    "    print (f'Case #{case}: {b} {c}')"
   ]
  },
  {
   "cell_type": "markdown",
   "metadata": {},
   "source": [
    "#### "
   ]
  },
  {
   "cell_type": "code",
   "execution_count": null,
   "metadata": {},
   "outputs": [],
   "source": []
  }
 ],
 "metadata": {
  "kernelspec": {
   "display_name": "Python 3",
   "language": "python",
   "name": "python3"
  },
  "language_info": {
   "codemirror_mode": {
    "name": "ipython",
    "version": 3
   },
   "file_extension": ".py",
   "mimetype": "text/x-python",
   "name": "python",
   "nbconvert_exporter": "python",
   "pygments_lexer": "ipython3",
   "version": "3.7.3"
  }
 },
 "nbformat": 4,
 "nbformat_minor": 2
}
