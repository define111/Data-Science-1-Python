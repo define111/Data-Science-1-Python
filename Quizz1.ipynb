{
 "cells": [
  {
   "cell_type": "code",
   "execution_count": 173,
   "metadata": {},
   "outputs": [],
   "source": [
    "import unicodecsv\n",
    "from datetime import datetime as dt\n",
    "from datetime import datetime\n",
    "\n",
    "enrollments_filename = 'enrollments.csv'\n",
    "engagement_filename = 'daily_engagement.csv'\n",
    "submissions_filename = 'project_submissions.csv'\n",
    "\n",
    "def readFile(filename):\n",
    "    with open(filename, 'rb') as f:\n",
    "        reader = unicodecsv.DictReader(f)\n",
    "        return list(reader)\n",
    "\n",
    "def countUniqueStudents(list_to_count,key):\n",
    "    unique_keys=[]\n",
    "    for idx, val in enumerate(list_to_count):\n",
    "        if val[key] not in unique_keys:\n",
    "            unique_keys.append(val[key])\n",
    "    return unique_keys\n",
    "\n",
    "def createUniqueStudents(list_to_count,key):\n",
    "    unique_keys={}\n",
    "    unique_keys_list=[]\n",
    "    n=0\n",
    "    for idx, val in enumerate(list_to_count):\n",
    "        if val[key] not in unique_keys_list:\n",
    "            unique_keys[n]=val\n",
    "            unique_keys_list.append(val[key])\n",
    "            n+=1\n",
    "    return unique_keys\n",
    "\n",
    "def removeWrongIndex(listToRename, wrong_key, right_key):\n",
    "    for idx, val in enumerate(listToRename):\n",
    "        listToRename[idx][right_key]=val[wrong_key]\n",
    "        del val[wrong_key]\n",
    "    return listToRename\n",
    "\n",
    "def compareUniqueStudents(full_list, list_to_compare):\n",
    "    keys_not_in_list_to_compare=[]\n",
    "    for idx, val in enumerate(full_list):\n",
    "        if val not in list_to_compare:\n",
    "            keys_not_in_list_to_compare.append(val)\n",
    "    return keys_not_in_list_to_compare\n",
    "\n",
    "def printEntriesNotInEgagement(full_list, list_to_compare):\n",
    "    for idx, val in enumerate(full_list):\n",
    "        if val['account_key'] in list_to_compare:\n",
    "            break\n",
    "\n",
    "# check how many students cancelled at all\n",
    "def countNotCancelledStudents(list_to_count):\n",
    "    unique_keys=[]\n",
    "    for idx, val in enumerate(list_to_count):\n",
    "        if val['join_date']!=val['cancel_date'] and val['account_key'] not in unique_keys:\n",
    "            unique_keys.append(val['account_key'])\n",
    "    return unique_keys            \n",
    "            \n",
    "def removeUdacity(data):\n",
    "    non_udacity=[]\n",
    "    for idx, val in enumerate(data):\n",
    "        if val['account_key'] not in removed_students_key:\n",
    "            non_udacity.append(val['account_key'])\n",
    "    return non_udacity\n",
    "\n",
    "def removeUdacity_list(data):\n",
    "    unique_keys=[]\n",
    "    for idx, val in enumerate(data):\n",
    "        if val['account_key'] not in removed_students_key:\n",
    "            unique_keys.append(val)\n",
    "    return unique_keys\n",
    "\n",
    "def udacityAccounts(list_to_remove):\n",
    "    removed_students_key=set()\n",
    "    for idx, val in enumerate(list_to_remove):\n",
    "        if val['is_udacity']==True:\n",
    "            removed_students_key.add(val['account_key'])\n",
    "    return removed_students_key\n",
    "\n",
    "def createPaidStudents(full_list):\n",
    "    students={}\n",
    "    for idx, val in enumerate(full_list):\n",
    "        if val['is_canceled']==False or val['days_to_cancel'] >7:\n",
    "            if val['account_key'] not in students or val['join_date'] > students[val['account_key']]:\n",
    "                students[val['account_key']]=(val['join_date'])\n",
    "    return students\n",
    "    \n",
    "enrollments = readFile(enrollments_filename)\n",
    "daily_engagement = readFile(engagement_filename)\n",
    "daily_engagement=removeWrongIndex(daily_engagement, 'acct', 'account_key')\n",
    "project_submissions = readFile(submissions_filename)\n",
    "\n",
    "# Takes a date as a string, and returns a Python datetime object. \n",
    "# If there is no date given, returns None\n",
    "def parse_date(date):\n",
    "    if date == '':\n",
    "        return 0\n",
    "    else:\n",
    "        return dt.strptime(date, '%Y-%m-%d')\n",
    "    \n",
    "# Takes a string which is either an empty string or represents an integer,\n",
    "# and returns an int or None.\n",
    "def parse_maybe_int(i):\n",
    "    if i == '':\n",
    "        return None\n",
    "    else:\n",
    "        return int(i)\n",
    "\n",
    "\n",
    "# Clean up the data types in the enrollments table\n",
    "for enrollment in enrollments:\n",
    "    enrollment['cancel_date'] = parse_date(enrollment['cancel_date'])\n",
    "    enrollment['days_to_cancel'] = parse_maybe_int(enrollment['days_to_cancel'])\n",
    "    enrollment['is_canceled'] = enrollment['is_canceled'] == 'True'\n",
    "    enrollment['is_udacity'] = enrollment['is_udacity'] == 'True'\n",
    "    enrollment['join_date'] = parse_date(enrollment['join_date'])\n",
    "\n",
    "enrollment_num_rows = len(enrollments)\n",
    "\n",
    "engagement_num_rows = len(daily_engagement)\n",
    "\n",
    "submission_num_rows = len(project_submissions)\n",
    "\n",
    "list_of_unique_keys_enrollment=countUniqueStudents(enrollments,'account_key')\n",
    "list_of_unique_keys_engagement=countUniqueStudents(daily_engagement,'account_key')\n",
    "\n",
    "keys_enrolled_but_no_engagement_entry=compareUniqueStudents(list_of_unique_keys_enrollment,list_of_unique_keys_engagement)\n",
    "\n",
    "removed_students_key=udacityAccounts(enrollments)\n",
    "\n",
    "non_udacity_enrollments=removeUdacity(enrollments)\n",
    "non_udacity_engagement=removeUdacity(daily_engagement)\n",
    "non_udacity_submissions=removeUdacity(project_submissions)\n",
    "\n",
    "#paid_students=createPaidStudents(non_udacity_enrollments)\n",
    "non_udacity_enrollments_list=removeUdacity_list(enrollments)\n",
    "non_udacity_engagement_list=removeUdacity_list(daily_engagement)\n",
    "non_udacity_submissions_list=removeUdacity_list(project_submissions)\n",
    "paid_students=createPaidStudents(non_udacity_enrollments_list)"
   ]
  },
  {
   "cell_type": "code",
   "execution_count": 174,
   "metadata": {},
   "outputs": [],
   "source": [
    "# Takes a student's join date and the date of a specific engagement record,\n",
    "# and returns True if that engagement record happened within one week\n",
    "# of the student joining.\n",
    "def withinOneWeek(join_date, engagement_date):\n",
    "    time_delta = engagement_date - join_date\n",
    "    return time_delta.days < 7 and time_delta.days >= 0"
   ]
  },
  {
   "cell_type": "code",
   "execution_count": 175,
   "metadata": {},
   "outputs": [],
   "source": [
    "#####################################\n",
    "#                 7                 #\n",
    "#####################################\n",
    "\n",
    "## Create a list of rows from the engagement table including only rows where\n",
    "## the student is one of the paid students you just found, and the date is within\n",
    "## one week of the student's join date.\n"
   ]
  },
  {
   "cell_type": "code",
   "execution_count": 176,
   "metadata": {},
   "outputs": [],
   "source": [
    "def firstWeek1(data, paid_students):\n",
    "    new_data=[]\n",
    "    for data_point in data:\n",
    "        if data_point['account_key'] in paid_students:\n",
    "            new_data.append(data_point)\n",
    "    return new_data\n",
    "paid_engagement_in_first_week = firstWeek1(non_udacity_engagement_list, paid_students)"
   ]
  },
  {
   "cell_type": "code",
   "execution_count": 177,
   "metadata": {},
   "outputs": [],
   "source": [
    "def firstWeek2(paid_students, daily_engagement):\n",
    "    students=[]\n",
    "    for val in daily_engagement:\n",
    "        account_key=val['account_key']\n",
    "        join_date=paid_students[account_key]\n",
    "        engagement_date=datetime.strptime(val['utc_date']+' 00:00:00', '%Y-%m-%d %H:%M:%S')\n",
    "        if withinOneWeek(join_date, engagement_date):\n",
    "            students.append(val)\n",
    "    return students\n",
    "paid_engagement_in_first_week1 = firstWeek2(paid_students, paid_engagement_in_first_week)"
   ]
  },
  {
   "cell_type": "code",
   "execution_count": 255,
   "metadata": {},
   "outputs": [],
   "source": [
    "from collections import defaultdict\n",
    "\n",
    "# Create a dictionary of engagement grouped by student.\n",
    "# The keys are account keys, and the values are lists of engagement records.\n",
    "def createByAccount(data):\n",
    "    by_account = defaultdict(list)\n",
    "    for data_point in data:\n",
    "        account_key = data_point['account_key']\n",
    "        by_account[account_key].append(data_point)\n",
    "    return by_account\n",
    "engagement_by_account1=createByAccount(paid_engagement_in_first_week1)"
   ]
  },
  {
   "cell_type": "code",
   "execution_count": 256,
   "metadata": {},
   "outputs": [],
   "source": [
    "from decimal import Decimal\n",
    "# Create a dictionary with the total minutes each student spent in the classroom during the first week.\n",
    "# The keys are account keys, and the values are numbers (total minutes)\n",
    "total_minutes_by_account = {}\n",
    "for account_key, engagement_for_student in engagement_by_account1.items():\n",
    "    total_minutes = 0\n",
    "    for engagement_record in engagement_for_student:\n",
    "        total_minutes += Decimal(engagement_record['total_minutes_visited'])\n",
    "    total_minutes_by_account[account_key] = total_minutes"
   ]
  },
  {
   "cell_type": "code",
   "execution_count": 257,
   "metadata": {},
   "outputs": [
    {
     "name": "stdout",
     "output_type": "stream",
     "text": [
      "Mean: 306.7083267534282914572864322\n",
      "Standard Deviation: 412.9969334085295843037642892\n",
      "Minimum: 0.0\n",
      "Maximum: 3564.733264499\n"
     ]
    }
   ],
   "source": [
    "import numpy as np\n",
    "\n",
    "# Summarize the data about minutes spent in the classroom\n",
    "total_minutes = list(total_minutes_by_account.values())\n",
    "print ('Mean:', np.mean(total_minutes))\n",
    "print ('Standard Deviation:', np.std(total_minutes))\n",
    "print ('Minimum:', np.min(total_minutes))\n",
    "print ('Maximum:', np.max(total_minutes))"
   ]
  },
  {
   "cell_type": "code",
   "execution_count": 258,
   "metadata": {},
   "outputs": [],
   "source": [
    "def findTotal(engagement_by_account, str_item):\n",
    "    total_by_account = {}\n",
    "    for account_key, engagement_for_student in engagement_by_account.items():\n",
    "        total = 0\n",
    "        for engagement_record in engagement_for_student:\n",
    "            total += float(engagement_record[str_item])\n",
    "        total_by_account[account_key] = total\n",
    "    return total_by_account"
   ]
  },
  {
   "cell_type": "code",
   "execution_count": 259,
   "metadata": {},
   "outputs": [],
   "source": [
    "import numpy as np\n",
    "def printStats(total_by_account, str):\n",
    "    total = list(total_by_account.values())\n",
    "    print (str)\n",
    "    print ('Mean:', np.mean(total))\n",
    "    print ('Standard Deviation:', np.std(total))\n",
    "    print ('Minimum:', np.min(total))\n",
    "    print ('Maximum:', np.max(total))"
   ]
  },
  {
   "cell_type": "code",
   "execution_count": 260,
   "metadata": {},
   "outputs": [],
   "source": [
    "total_by_account=findTotal(engagement_by_account, 'lessons_completed')"
   ]
  },
  {
   "cell_type": "code",
   "execution_count": 261,
   "metadata": {},
   "outputs": [
    {
     "name": "stdout",
     "output_type": "stream",
     "text": [
      "Lessons completed\n",
      "Mean: 1.636180904522613\n",
      "Standard Deviation: 3.002561299829423\n",
      "Minimum: 0.0\n",
      "Maximum: 36.0\n"
     ]
    }
   ],
   "source": [
    "printStats(total_by_account, 'Lessons completed')"
   ]
  },
  {
   "cell_type": "code",
   "execution_count": 262,
   "metadata": {},
   "outputs": [],
   "source": [
    "def findTotalDays(engagement_by_account):\n",
    "    total_by_account = {}\n",
    "    for account_key, engagement_for_student in engagement_by_account.items():\n",
    "        total = 0\n",
    "        for engagement_record in engagement_for_student:\n",
    "            if float(engagement_record['total_minutes_visited'])>0:\n",
    "                total += 1\n",
    "        total_by_account[account_key] = total\n",
    "    return total_by_account"
   ]
  },
  {
   "cell_type": "code",
   "execution_count": 263,
   "metadata": {},
   "outputs": [],
   "source": [
    "total_by_account=findTotalDays(engagement_by_account)"
   ]
  },
  {
   "cell_type": "code",
   "execution_count": 264,
   "metadata": {},
   "outputs": [
    {
     "name": "stdout",
     "output_type": "stream",
     "text": [
      "Number of active days\n",
      "Mean: 2.8673366834170855\n",
      "Standard Deviation: 2.2551980029196814\n",
      "Minimum: 0\n",
      "Maximum: 7\n"
     ]
    }
   ],
   "source": [
    "printStats(total_by_account, 'Number of active days')"
   ]
  },
  {
   "cell_type": "code",
   "execution_count": 266,
   "metadata": {},
   "outputs": [
    {
     "name": "stdout",
     "output_type": "stream",
     "text": [
      "4527\n",
      "2392\n"
     ]
    }
   ],
   "source": [
    "######################################\n",
    "#                 11                 #\n",
    "######################################\n",
    "\n",
    "## Create two lists of engagement data for paid students in the first week.\n",
    "## The first list should contain data for students who eventually pass the\n",
    "## subway project, and the second list should contain data for students\n",
    "## who do not.\n",
    "#or submission['assigned_rating']=='DISTINCTION'\n",
    "\n",
    "def splitSuccessfulStudents(non_udacity_submissions, subway_project_lesson_keys):\n",
    "    passing_submissions=set()\n",
    "    for submission in non_udacity_submissions:\n",
    "        if (submission['assigned_rating']=='PASSED' or submission['assigned_rating']=='DISTINCTION') and submission['lesson_key'] in subway_project_lesson_keys:\n",
    "            passing_submissions.add(submission['account_key'])\n",
    "    return [passing_submissions]\n",
    "\n",
    "def createLists(passing_submissions, engagements):\n",
    "    passing_engagement=[]\n",
    "    non_passing_engagement=[]\n",
    "    for engagement in engagements:\n",
    "        if engagement['account_key'] in passing_submissions:\n",
    "            passing_engagement.append(engagement)\n",
    "        else:\n",
    "            non_passing_engagement.append(engagement)\n",
    "    return [passing_engagement, non_passing_engagement]\n",
    "subway_project_lesson_keys = ['746169184', '3176718735']\n",
    "\n",
    "passing_submissions = splitSuccessfulStudents(non_udacity_submissions_list,subway_project_lesson_keys)[0]\n",
    "\n",
    "passing_engagement = createLists(passing_submissions,paid_engagement_in_first_week1)[0]\n",
    "non_passing_engagement =createLists(passing_submissions,paid_engagement_in_first_week1)[1]\n",
    "\n",
    "print(len(passing_engagement))\n",
    "print(len(non_passing_engagement))"
   ]
  },
  {
   "cell_type": "code",
   "execution_count": 273,
   "metadata": {},
   "outputs": [
    {
     "name": "stdout",
     "output_type": "stream",
     "text": [
      "Minutes_for_passed\n",
      "Mean: 394.58604648350865\n",
      "Standard Deviation: 448.4995193265521\n",
      "Minimum: 0.0\n",
      "Maximum: 3564.7332644989997\n",
      "Minutes_for_non_passed\n",
      "Mean: 143.32647426675584\n",
      "Standard Deviation: 269.5386190114951\n",
      "Minimum: 0.0\n",
      "Maximum: 1768.5227493319999\n",
      "Lessons_for_passed\n",
      "Mean: 2.052550231839258\n",
      "Standard Deviation: 3.1422270555779344\n",
      "Minimum: 0.0\n",
      "Maximum: 36.0\n",
      "Lessons_for_non_passed\n",
      "Mean: 0.8620689655172413\n",
      "Standard Deviation: 2.5491599418312028\n",
      "Minimum: 0.0\n",
      "Maximum: 27.0\n",
      "Days_for_passed\n",
      "Mean: 3.384853168469861\n",
      "Standard Deviation: 2.2588214709184595\n",
      "Minimum: 0\n",
      "Maximum: 7\n",
      "Days_for_non_passed\n",
      "Mean: 1.9051724137931034\n",
      "Standard Deviation: 1.9057314413619046\n",
      "Minimum: 0\n",
      "Maximum: 7\n"
     ]
    }
   ],
   "source": [
    "######################################\n",
    "#                 12                 #\n",
    "######################################\n",
    "\n",
    "## Compute some metrics you're interested in and see how they differ for\n",
    "## students who pass the subway project vs. students who don't. A good\n",
    "## starting point would be the metrics we looked at earlier (minutes spent\n",
    "## in the classroom, lessons completed, and days visited).\n",
    "\n",
    "passing_engagement_by_account=createByAccount(passing_engagement)\n",
    "non_passing_engagement_by_account=createByAccount(non_passing_engagement)\n",
    "\n",
    "total_by_account_min=findTotal(passing_engagement_by_account, 'total_minutes_visited')\n",
    "non_total_by_account_min=findTotal(non_passing_engagement_by_account, 'total_minutes_visited')\n",
    "\n",
    "printStats(total_by_account_min, 'Minutes_for_passed')\n",
    "printStats(non_total_by_account_min, 'Minutes_for_non_passed')\n",
    "\n",
    "total_by_account_lesson=findTotal(passing_engagement_by_account, 'lessons_completed')\n",
    "non_total_by_account_lesson=findTotal(non_passing_engagement_by_account, 'lessons_completed')\n",
    "\n",
    "printStats(total_by_account_lesson, 'Lessons_for_passed')\n",
    "printStats(non_total_by_account_lesson, 'Lessons_for_non_passed')\n",
    "\n",
    "total_by_account_days=findTotalDays(passing_engagement_by_account)\n",
    "non_total_by_account_days=findTotalDays(non_passing_engagement_by_account)\n",
    "\n",
    "printStats(total_by_account_days, 'Days_for_passed')\n",
    "printStats(non_total_by_account_days, 'Days_for_non_passed')"
   ]
  },
  {
   "cell_type": "code",
   "execution_count": 314,
   "metadata": {},
   "outputs": [
    {
     "data": {
      "text/plain": [
       "Text(0.5, 0.98, 'Days')"
      ]
     },
     "execution_count": 314,
     "metadata": {},
     "output_type": "execute_result"
    },
    {
     "data": {
      "image/png": "[encoded data removed]",
      "text/plain": [
       "<Figure size 432x288 with 2 Axes>"
      ]
     },
     "metadata": {
      "needs_background": "light"
     },
     "output_type": "display_data"
    },
    {
     "data": {
      "image/png": "[encoded data removed]",
      "text/plain": [
       "<Figure size 432x288 with 2 Axes>"
      ]
     },
     "metadata": {
      "needs_background": "light"
     },
     "output_type": "display_data"
    },
    {
     "data": {
      "image/png": "[encoded data removed]",
      "text/plain": [
       "<Figure size 432x288 with 2 Axes>"
      ]
     },
     "metadata": {
      "needs_background": "light"
     },
     "output_type": "display_data"
    }
   ],
   "source": [
    "######################################\n",
    "#                 13                 #\n",
    "######################################\n",
    "\n",
    "## Make histograms of the three metrics we looked at earlier for both\n",
    "## students who passed the subway project and students who didn't. You\n",
    "## might also want to make histograms of any other metrics you examined.\n",
    "%matplotlib inline\n",
    "import matplotlib.pyplot as plt\n",
    "\n",
    "fig, axs = plt.subplots(1, 2, sharey=True,constrained_layout=True)\n",
    "\n",
    "axs[0].hist(list(total_by_account_min.values()))\n",
    "axs[1].hist(list(non_total_by_account_min.values()))\n",
    "fig.suptitle('Minutes')\n",
    "\n",
    "fig, axs = plt.subplots(1, 2, sharey=True, constrained_layout=True)\n",
    "axs[0].hist(list(total_by_account_lesson.values()))\n",
    "axs[1].hist(list(non_total_by_account_lesson.values()))\n",
    "fig.suptitle('Lessons')\n",
    "\n",
    "fig, axs = plt.subplots(1, 2, sharey=True,constrained_layout=True)\n",
    "axs[0].hist(list(total_by_account_days.values()))\n",
    "axs[1].hist(list(non_total_by_account_days.values()))\n",
    "fig.suptitle('Days')"
   ]
  },
  {
   "cell_type": "code",
   "execution_count": 277,
   "metadata": {},
   "outputs": [
    {
     "name": "stdout",
     "output_type": "stream",
     "text": [
      "<class 'dict'>\n"
     ]
    }
   ],
   "source": []
  },
  {
   "cell_type": "code",
   "execution_count": null,
   "metadata": {},
   "outputs": [],
   "source": []
  }
 ],
 "metadata": {
  "kernelspec": {
   "display_name": "Python 3",
   "language": "python",
   "name": "python3"
  },
  "language_info": {
   "codemirror_mode": {
    "name": "ipython",
    "version": 3
   },
   "file_extension": ".py",
   "mimetype": "text/x-python",
   "name": "python",
   "nbconvert_exporter": "python",
   "pygments_lexer": "ipython3",
   "version": "3.7.3"
  }
 },
 "nbformat": 4,
 "nbformat_minor": 2
}
